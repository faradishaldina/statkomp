{
  "nbformat": 4,
  "nbformat_minor": 0,
  "metadata": {
    "colab": {
      "provenance": [],
      "authorship_tag": "ABX9TyP53kenjuD0qxMhOfW9Nsar",
      "include_colab_link": true
    },
    "kernelspec": {
      "name": "python3",
      "display_name": "Python 3"
    },
    "language_info": {
      "name": "python"
    }
  },
  "cells": [
    {
      "cell_type": "markdown",
      "metadata": {
        "id": "view-in-github",
        "colab_type": "text"
      },
      "source": [
        "<a href=\"https://colab.research.google.com/github/faradishaldina/statkomp/blob/main/07_FaradishaA_Kuis2StatKomp.ipynb\" target=\"_parent\"><img src=\"https://colab.research.google.com/assets/colab-badge.svg\" alt=\"Open In Colab\"/></a>"
      ]
    },
    {
      "cell_type": "markdown",
      "source": [
        "1. Mean of CP for Pokemons fire type is 281,67 while the standard deviation is 323,07. If the CP value is assumed as normally distributed, what is the probability of 100 Pokemons fire type have CP value below 290?"
      ],
      "metadata": {
        "id": "DBGiL_AR7sq_"
      }
    },
    {
      "cell_type": "code",
      "source": [
        "import scipy.stats as stats\n",
        "\n",
        "mean = 281.67\n",
        "std_dev = 323.07\n",
        "sample_size = 100\n",
        "cp_value = 290\n",
        "\n",
        "# Calculate the standard error\n",
        "# Since we want to find the probability of 100 Pokemon having a CP value below 290, \n",
        "# we use an approximate binomial distribution with p = 0.5095 and n = 100:\n",
        "se = std_dev / (sample_size ** 0.5)\n",
        "\n",
        "# Calculate the z-score\n",
        "z_score = (cp_value - mean) / se\n",
        "\n",
        "# Calculate the probability using the cumulative distribution function (CDF)\n",
        "probability = stats.norm.cdf(z_score)\n",
        "\n",
        "# Print the result\n",
        "print(\"Standart Error : \", se)\n",
        "print(\"Z Score : \", z_score)\n",
        "print(\"The probability of 100 Fire-type Pokémon having a CP value below 290 is:\", probability)"
      ],
      "metadata": {
        "colab": {
          "base_uri": "https://localhost:8080/"
        },
        "id": "gsq0mIAc95Gn",
        "outputId": "73f332c9-d472-48e1-c767-046582e1d30a"
      },
      "execution_count": 6,
      "outputs": [
        {
          "output_type": "stream",
          "name": "stdout",
          "text": [
            "Standart Error :  32.307\n",
            "Z Score :  0.2578388584517282\n",
            "The probability of 100 Fire-type Pokémon having a CP value below 290 is: 0.6017343632782693\n"
          ]
        }
      ]
    },
    {
      "cell_type": "markdown",
      "source": [
        "2. Suppose the caught pokemons have variance of HP is 1948,24. By choosing 25 pokemons randomly, the mean is 53,56. Determine the range of population average from the HP by using confidential level is 95%."
      ],
      "metadata": {
        "id": "eemZdbtMA5mk"
      }
    },
    {
      "cell_type": "code",
      "source": [
        "import scipy.stats as stats\n",
        "import math\n",
        "\n",
        "sample_mean = 53.56\n",
        "sample_std = math.sqrt(1948.24)\n",
        "sample_size = 25\n",
        "confidence_level = 0.95\n",
        "\n",
        "# Calculate the critical value (t*) using the t-distribution\n",
        "degrees_of_freedom = sample_size - 1\n",
        "critical_value = stats.t.ppf((1 + confidence_level) / 2, df=degrees_of_freedom)\n",
        "\n",
        "# Calculate the margin of error\n",
        "margin_of_error = critical_value * (sample_std / math.sqrt(sample_size))\n",
        "\n",
        "# Calculate the confidence interval\n",
        "confidence_interval = (sample_mean - margin_of_error, sample_mean + margin_of_error)\n",
        "print(\"Margin of Error :\", margin_of_error)\n",
        "\n",
        "# Calculate the lower and upper bounds of the confidence interval\n",
        "lower_bound = sample_mean - margin_of_error\n",
        "upper_bound = sample_mean + margin_of_error\n",
        "\n",
        "print(\"Range of population mean (95% confidence level):\", confidence_interval)\n",
        "print(\"Lower bound:\", lower_bound)\n",
        "print(\"Upper bound:\", upper_bound)"
      ],
      "metadata": {
        "colab": {
          "base_uri": "https://localhost:8080/"
        },
        "id": "VSAxzXaKCikd",
        "outputId": "fdfe045b-17d9-4249-aa1e-7b9bfc4ab99d"
      },
      "execution_count": 38,
      "outputs": [
        {
          "output_type": "stream",
          "name": "stdout",
          "text": [
            "Margin of Error : 18.21963078632054\n",
            "Range of population mean (95% confidence level): (35.340369213679466, 71.77963078632054)\n",
            "Lower bound: 35.340369213679466\n",
            "Upper bound: 71.77963078632054\n"
          ]
        }
      ]
    },
    {
      "cell_type": "code",
      "source": [
        "sample_mean = 53.56\n",
        "population_variance = 1948.24\n",
        "sample_size = 25\n",
        "confidence_level = 0.95\n",
        "\n",
        "# Calculate the standard error\n",
        "standard_error = math.sqrt(population_variance / sample_size)\n",
        "\n",
        "# Find the critical value (z-score) for the confidence level\n",
        "z = 1.96  # For a 95% confidence level (standard normal distribution)\n",
        "\n",
        "# Calculate the margin of error\n",
        "margin_of_error = z * standard_error\n",
        "\n",
        "# Calculate the lower and upper bounds of the confidence interval\n",
        "lower_bound = sample_mean - margin_of_error\n",
        "upper_bound = sample_mean + margin_of_error\n",
        "\n",
        "print(\"Range of population mean (95% confidence level):\")\n",
        "print(\"Lower bound:\", lower_bound)\n",
        "print(\"Upper bound:\", upper_bound)"
      ],
      "metadata": {
        "colab": {
          "base_uri": "https://localhost:8080/"
        },
        "id": "fzYP_njdYwWV",
        "outputId": "8187948c-82ed-4410-95c9-1921a138f637"
      },
      "execution_count": 40,
      "outputs": [
        {
          "output_type": "stream",
          "name": "stdout",
          "text": [
            "Range of population mean (95% confidence level):\n",
            "Lower bound: 36.25756227117115\n",
            "Upper bound: 70.86243772882885\n"
          ]
        }
      ]
    },
    {
      "cell_type": "markdown",
      "source": [
        "3. Check the Pokemon data!\n",
        "\n",
        "a. Determine the standard deviation of caught Pokemon! (5 poin)\n",
        "\n",
        "b. Determine the standard deviation of flee Pokemon! (5 poin)\n",
        "\n",
        "c. Are the caught Pokemon and flee Pokemon groups homogen? Use Harley testing to justify your answer. (10 poin)"
      ],
      "metadata": {
        "id": "T70bD471E1s6"
      }
    },
    {
      "cell_type": "code",
      "source": [
        "import pandas as pd\n",
        "import numpy as np\n",
        "\n",
        "# Read the CSV file\n",
        "data = pd.read_csv('Pokemon (2).csv')\n",
        "\n",
        "# Extract the column with the words\n",
        "# word_column = data['column_name']\n",
        "Caught_status = data['status']\n",
        "Flee_status = data['status']\n",
        "\n",
        "# Calculate the length of each word\n",
        "# word_lengths = word_column.str.len()\n",
        "Caught_lengths = Caught_status.str.len()\n",
        "Flee_lengths = Flee_status.str.len()\n",
        "\n",
        "# Calculate the standard deviation\n",
        "std_devCaught = np.std(Caught_lengths)\n",
        "std_devFlee = np.std(Flee_lengths)\n",
        "harley_test = std_devCaught / std_devFlee\n",
        "\n",
        "# Print the result\n",
        "print('a. Standard Deviation of Caught:', std_devCaught)\n",
        "print('b. Standard Deviation of Flee:', std_devFlee)\n",
        "print('c. Result of Harley Test:', harley_test)\n"
      ],
      "metadata": {
        "colab": {
          "base_uri": "https://localhost:8080/"
        },
        "id": "Qm7Azv5cGBF7",
        "outputId": "8d66f24f-99aa-4905-85f3-4fa5b710662f"
      },
      "execution_count": 41,
      "outputs": [
        {
          "output_type": "stream",
          "name": "stdout",
          "text": [
            "a. Standard Deviation of Caught: 0.3047025760256497\n",
            "b. Standard Deviation of Flee: 0.3047025760256497\n",
            "c. Result of Harley Test: 1.0\n"
          ]
        }
      ]
    },
    {
      "cell_type": "markdown",
      "source": [
        "By using Pokemon data which caught from March 15th to March 22nd 2023, perform several activities, such:\n",
        "\n",
        "a. Use KS test to determine whether “Attack” attribute is normally distributed by using p-value = 0.05. Justify your answer by writing the calculation process! (10 poin)\n",
        "\n",
        "b. Make a histogram of “Attack” to justify your answer at point a! (5 poin)\n",
        "\n",
        "c. Use KS test to determine “Defence” is normally distributed or not by using confidential level = 99%. Justify your answer by writing the calculation process! (10 poin)\n",
        "\n",
        "d. Make a histogram of “Defence” to justify your answer at point c! (5 poin)"
      ],
      "metadata": {
        "id": "cMEQyxA6OLdU"
      }
    },
    {
      "cell_type": "code",
      "source": [
        "from scipy.stats import kstest, norm\n",
        "import matplotlib.pyplot as plt\n",
        "\n",
        "data = pd.read_csv('Pokemon (2).csv')\n",
        "\n",
        "attack_values = data['attack']\n",
        "\n",
        "_, p = kstest(attack_values, 'norm')\n",
        "a = 0.05\n",
        "if p < a:\n",
        "    print(\"a. The 'Attack' attribute is not normally distributed.\")\n",
        "else:\n",
        "    print(\"a. The 'Attack' attribute is normally distributed.\")\n",
        "\n",
        "print(\"b. Histogram of Attack Attribute \")\n",
        "plt.hist(attack_values, bins=20, edgecolor='yellow')\n",
        "plt.xlabel('attack')\n",
        "plt.ylabel('Frequency')\n",
        "plt.title('Histogram of Attack Attribute')\n",
        "plt.show()\n",
        "\n",
        "defense_values = data['def']\n",
        "\n",
        "_, p = kstest(defense_values, 'norm')\n",
        "a = 0.01  # 99% confidence level\n",
        "\n",
        "if p < a:\n",
        "    print(\"c. The 'Defense' attribute is not normally distributed.\")\n",
        "else:\n",
        "    print(\"c. The 'Defense' attribute is normally distributed.\")\n",
        "print (\"d. Histogram of Defense Attribute\")\n",
        "plt.hist(defense_values, bins=20, edgecolor='yellow')\n",
        "plt.xlabel('def')\n",
        "plt.ylabel('Frequency')\n",
        "plt.title('Histogram of Defense Attribute')\n",
        "plt.show()"
      ],
      "metadata": {
        "colab": {
          "base_uri": "https://localhost:8080/",
          "height": 996
        },
        "id": "ZVmnejLrOM4C",
        "outputId": "6a47d44a-2968-461b-ecfc-4192cc8d455f"
      },
      "execution_count": 42,
      "outputs": [
        {
          "output_type": "stream",
          "name": "stdout",
          "text": [
            "a. The 'Attack' attribute is not normally distributed.\n",
            "b. Histogram of Attack Attribute \n"
          ]
        },
        {
          "output_type": "display_data",
          "data": {
            "text/plain": [
              "<Figure size 640x480 with 1 Axes>"
            ],
            "image/png": "[encoded data removed]"
          },
          "metadata": {}
        },
        {
          "output_type": "stream",
          "name": "stdout",
          "text": [
            "c. The 'Defense' attribute is not normally distributed.\n",
            "d. Histogram of Defense Attribute\n"
          ]
        },
        {
          "output_type": "display_data",
          "data": {
            "text/plain": [
              "<Figure size 640x480 with 1 Axes>"
            ],
            "image/png": "[encoded data removed]"
          },
          "metadata": {}
        }
      ]
    }
  ]
}
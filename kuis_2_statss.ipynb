{
  "nbformat": 4,
  "nbformat_minor": 0,
  "metadata": {
    "colab": {
      "provenance": [],
      "include_colab_link": true
    },
    "kernelspec": {
      "name": "python3",
      "display_name": "Python 3"
    },
    "language_info": {
      "name": "python"
    }
  },
  "cells": [
    {
      "cell_type": "markdown",
      "metadata": {
        "id": "view-in-github",
        "colab_type": "text"
      },
      "source": [
        "<a href=\"https://colab.research.google.com/github/faradishaldina/statkomp/blob/main/kuis_2_statss.ipynb\" target=\"_parent\"><img src=\"https://colab.research.google.com/assets/colab-badge.svg\" alt=\"Open In Colab\"/></a>"
      ]
    },
    {
      "cell_type": "markdown",
      "source": [
        "Rata-rata konsentrasi kolesterol darah pada populasi dalam jumlah besar pria dewasa usia 50-60 tahun \n",
        "adalah  200mg/dl  dengan  simpangan  baku  20mg/dl.  Dianggap  pengukuran  kolesterol  bersebaran \n",
        "normal. Berapakah peluang bahwa 100 pria dari kelompok umum ini akan memiliki kolesterol di \n",
        "bawah 204 ml/dl? \n",
        "\n",
        "\n",
        "To calculate the probability manually, we need to use the properties of the normal distribution.\n",
        "\n",
        "Given information:\n",
        "\n",
        "Population mean (μ) = 200 mg/dL\n",
        "Standard deviation (σ) = 20 mg/dL\n",
        "Sample size (n) = 100\n",
        "Desired value (x) = 204 mg/dL\n",
        "Calculate the standard error of the mean (SEM) using the formula:\n",
        "SEM = σ / √n\n",
        "SEM = 20 / √100\n",
        "SEM = 20 / 10\n",
        "SEM = 2\n",
        "\n",
        "Calculate the z-score using the formula:\n",
        "z = (x - μ) / SEM\n",
        "z = (204 - 200) / 2\n",
        "z = 4 / 2\n",
        "z = 2\n",
        "\n",
        "Use the z-table or standard normal distribution table to find the cumulative probability corresponding to the z-score. In this case, we want the probability that the cholesterol is below 204 mg/dL, so we look up the z-score of 2.\n",
        "\n",
        "The closest value in the z-table is 0.9772. This represents the cumulative probability up to the z-score of 2.\n",
        "\n",
        "Subtract this cumulative probability from 1 to find the probability beyond the z-score.\n",
        "1 - 0.9772 = 0.0228\n",
        "\n",
        "This represents the probability that the cholesterol is beyond 204 mg/dL.\n",
        "\n",
        "Since we are interested in the probability that the cholesterol is below 204 mg/dL, we subtract the probability beyond the z-score from 1.\n",
        "1 - 0.0228 = 0.9772\n",
        "\n",
        "This is the probability that 100 men from the general population will have cholesterol below 204 mg/dL.\n",
        "\n",
        "Therefore, the probability that 100 men from the general population will have cholesterol below 204 mg/dL is approximately 0.9772 or 97.72%."
      ],
      "metadata": {
        "id": "2JkYMCti0AGl"
      }
    },
    {
      "cell_type": "markdown",
      "source": [],
      "metadata": {
        "id": "xawMsRbI2LcU"
      }
    },
    {
      "cell_type": "code",
      "execution_count": null,
      "metadata": {
        "id": "A5xv6IxMww1w",
        "outputId": "9d418876-a6cb-4f0a-9e21-77749b790458",
        "colab": {
          "base_uri": "https://localhost:8080/"
        }
      },
      "outputs": [
        {
          "output_type": "stream",
          "name": "stdout",
          "text": [
            "The probability that 100 men from this population will have cholesterol levels below 204 mg/dL is 97.72%.\n"
          ]
        }
      ],
      "source": [
        "import scipy.stats as stats\n",
        "import math\n",
        "\n",
        "mean = 200\n",
        "std_dev = 20\n",
        "sample_size = 100\n",
        "threshold = 204\n",
        "\n",
        "# Calculate the z-score\n",
        "z = (threshold - mean) / (std_dev/math.sqrt(sample_size))\n",
        "\n",
        "# Calculate the probability using the cumulative distribution function (CDF)\n",
        "probability = stats.norm.cdf(z)\n",
        "\n",
        "# Convert the probability to a percentage\n",
        "percentage = probability * 100\n",
        "\n",
        "# Print the result\n",
        "print(f\"The probability that {sample_size} men from this population will have cholesterol levels below {threshold} mg/dL is {percentage:.2f}%.\")\n"
      ]
    },
    {
      "cell_type": "markdown",
      "source": [
        "no2\n",
        "\n",
        "Untuk menghitung rentang nilai rata-rata populasi dengan tingkat kepercayaan 95%, kita dapat menggunakan interval kepercayaan. Interval kepercayaan untuk rata-rata populasi dapat dihitung dengan menggunakan rumus:\n",
        "\n",
        "Interval kepercayaan = rata-rata sampel ± (z * (standar deviasi populasi / akar kuadrat dari ukuran sampel))\n",
        "\n",
        "Dalam hal ini, ukuran sampel (n) adalah 25, rata-rata sampel (x̄) adalah 15 cm, dan varians populasi (σ^2) adalah 16 cm^2. Kita perlu menghitung standar deviasi populasi (σ) terlebih dahulu dengan mengambil akar kuadrat dari varians populasi.\n",
        "\n",
        "Standar deviasi populasi (σ) = √16 cm = 4 cm\n",
        "\n",
        "Selanjutnya, kita perlu menentukan nilai z dengan tingkat kepercayaan 95%. Untuk tingkat kepercayaan 95%, z bernilai 1,96 (dapat ditemukan pada tabel distribusi normal standar).\n",
        "\n",
        "Interval kepercayaan = 15 cm ± (1,96 * (4 cm / √25)) = 15 cm ± (1,96 * 0,8 cm) = 15 cm ± 1,568 cm\n",
        "\n",
        "# Jadi, rentang nilai rata-rata populasi dengan tingkat kepercayaan 95% adalah antara 13,432 cm dan 16,568 cm."
      ],
      "metadata": {
        "id": "7_urD7leyWyr"
      }
    },
    {
      "cell_type": "code",
      "source": [
        "sample_mean = 15\n",
        "population_variance = 16\n",
        "sample_size = 25\n",
        "confidence_level = 0.95\n",
        "\n",
        "# Calculate the standard error\n",
        "standard_error = math.sqrt(population_variance / sample_size)\n",
        "\n",
        "# Find the critical value (z-score) for the confidence level\n",
        "z = 1.96  # For a 95% confidence level (standard normal distribution)\n",
        "\n",
        "# Calculate the margin of error\n",
        "margin_of_error = z * standard_error\n",
        "\n",
        "# Calculate the lower and upper bounds of the confidence interval\n",
        "lower_bound = sample_mean - margin_of_error\n",
        "upper_bound = sample_mean + margin_of_error\n",
        "\n",
        "print(\"Range of population mean (95% confidence level):\")\n",
        "print(\"Lower bound:\", lower_bound)\n",
        "print(\"Upper bound:\", upper_bound)\n"
      ],
      "metadata": {
        "id": "yhjcyTPvyYSK",
        "outputId": "1cb32bb4-4c41-4aa2-8599-b8396c7c12b3",
        "colab": {
          "base_uri": "https://localhost:8080/"
        }
      },
      "execution_count": null,
      "outputs": [
        {
          "output_type": "stream",
          "name": "stdout",
          "text": [
            "Range of population mean (95% confidence level):\n",
            "Lower bound: 13.432\n",
            "Upper bound: 16.568\n"
          ]
        }
      ]
    },
    {
      "cell_type": "markdown",
      "source": [
        "No 3\n",
        "Dalam  sebuah  penelitian,  dilakukan  eksperimen  terhadap  dua  buah  kelompok  untuk  mengetahui dampak penggunaan tool pembelajaran. Berikut merupakan dari sampel yang mengikuti eksperimen.\n",
        "a. Tentukan simpangan baku untuk kelompok “dengan tool”! (5 poin) \n",
        "b. Tentukan simpangan baku untuk kelompok “tanpa tool”! (5 poin) \n",
        "c. Apakah  kedua  kelompok  tersebut  homogen?  Lengkapi  jawaban  Anda  dengan  hasil \n",
        "analisis dengan menggunakan Uji Harley. (10 poin)"
      ],
      "metadata": {
        "id": "MhgMPV6t4Pzd"
      }
    },
    {
      "cell_type": "code",
      "source": [
        "import numpy as np\n",
        "import scipy.stats as stats\n",
        "\n",
        "# Data\n",
        "dengan_tool = [32, 31, 32, 32, 33, 35, 32, 34, 31, 29, 36, 30, 33]\n",
        "tanpa_tool = [29, 30, 27, 28, 26, 27, 31, 27, 26, 28, 27, 24, 25]\n",
        "\n",
        "# Standard deviation\n",
        "std_dengan_tool = np.std(dengan_tool, ddof=1)\n",
        "std_tanpa_tool = np.std(tanpa_tool, ddof=1)\n",
        "\n",
        "print(\"Standard deviation for 'dengan tool':\", std_dengan_tool)\n",
        "print(\"Standard deviation for 'tanpa tool':\", std_tanpa_tool)\n",
        "\n",
        "# Levene's test for homogeneity of variances\n",
        "statistic, p_value = stats.levene(dengan_tool, tanpa_tool)\n",
        "\n",
        "print(\"Levene's test statistic:\", statistic)\n",
        "print(\"p-value:\", p_value)\n"
      ],
      "metadata": {
        "colab": {
          "base_uri": "https://localhost:8080/"
        },
        "id": "dI0w1uE74Zko",
        "outputId": "ee52453e-63ea-49a8-aa54-f1dcb7405d4e"
      },
      "execution_count": null,
      "outputs": [
        {
          "output_type": "stream",
          "name": "stdout",
          "text": [
            "Standard deviation for 'dengan tool': 1.9315199276138029\n",
            "Standard deviation for 'tanpa tool': 1.931519927613803\n",
            "Levene's test statistic: 0.0\n",
            "p-value: 1.0\n"
          ]
        }
      ]
    },
    {
      "cell_type": "code",
      "source": [
        "import statistics\n",
        "\n",
        "# Data for the \"dengan tool\" group\n",
        "dengan_tool = [32, 31, 32, 32, 33, 35, 32, 34, 31, 29, 36, 30, 33]\n",
        "\n",
        "# Data for the \"tanpa tool\" group\n",
        "tanpa_tool = [29, 30, 27, 28, 26, 27, 31, 27, 26, 28, 27, 24, 25]\n",
        "\n",
        "# Calculate the standard deviation for the \"dengan tool\" group\n",
        "std_dev_dengan_tool = statistics.stdev(dengan_tool)\n",
        "\n",
        "# Calculate the standard deviation for the \"tanpa tool\" group\n",
        "std_dev_tanpa_tool = statistics.stdev(tanpa_tool)\n",
        "\n",
        "# Perform the Harley test for homogeneity\n",
        "harley_test = std_dev_dengan_tool / std_dev_tanpa_tool\n",
        "\n",
        "# Print the results\n",
        "print(\"a. Simpangan baku untuk kelompok 'dengan tool':\", std_dev_dengan_tool)\n",
        "print(\"b. Simpangan baku untuk kelompok 'tanpa tool':\", std_dev_tanpa_tool)\n",
        "print(\"c. Hasil Uji Harley:\", harley_test)\n"
      ],
      "metadata": {
        "colab": {
          "base_uri": "https://localhost:8080/"
        },
        "id": "Vbj4GvcK-yTo",
        "outputId": "51d1dfaa-1ef3-407e-f504-3282b09e6236"
      },
      "execution_count": null,
      "outputs": [
        {
          "output_type": "stream",
          "name": "stdout",
          "text": [
            "a. Simpangan baku untuk kelompok 'dengan tool': 1.931519927613803\n",
            "b. Simpangan baku untuk kelompok 'tanpa tool': 1.931519927613803\n",
            "c. Hasil Uji Harley: 1.0\n"
          ]
        }
      ]
    },
    {
      "cell_type": "markdown",
      "source": [
        "#no4\n",
        "Terdapat sebuah data kondisi cuaca di daerah Szeged, Hongaria tahun 2006 – 2016. Data direkam\n",
        "pada internal setiap satu jam sekali. Sebagai seorang analis data, Anda diminta untuk memastikan \n",
        "bahwa data ini baik karena teman Anda akan melakukan permodelan regresi linier untuk memprediksi \n",
        "cuaca ke depan. Tugas Anda adalah,\n",
        "a. Gunakan uji KS untuk menentukan apakah atribut “Temprature” terdistribusi secara \n",
        "normal. Anda diminta untuk menggunakan p-value sebesar 0.05. Apakah “Temperature”\n",
        "terdistribusi normal? Berapa nilai KS-nya? (10 poin)\n",
        "b. Buatlah histogram dari “Temprature” untuk memastikan nilai yang Anda dapat dari poin \n",
        "a. (5 poin)\n",
        "c. Gunakan uji KS untuk menentukan apakah atribut “Humidity” terdistribusi secara normal. \n",
        "Tingkat kepercayaan yang diinginkan adalah 99%. Apakah “Humidity” terdistribusi \n",
        "normal? Berapa nilai KS-nya? (10 poin)\n",
        "d. Buatlah histogram dari “Humidity” untuk memastikan apakah nilai yang dapat dari poin \n",
        "c. (5 poin)"
      ],
      "metadata": {
        "id": "sgjnepwK8_bH"
      }
    },
    {
      "cell_type": "code",
      "source": [
        "import numpy as np\n",
        "from scipy.stats import kstest, norm\n",
        "import matplotlib.pyplot as plt\n",
        "import pandas as pd\n",
        "\n",
        "# Load the data from the file using Pandas\n",
        "data = pd.read_csv('weatherHistory.csv')\n",
        "\n",
        "# Extract the \"Temperature\" and \"Humidity\" columns from the data\n",
        "temperature_data = data['Temperature (C)']\n",
        "humidity_data = data['Humidity']\n",
        "\n",
        "# Perform the KS test for normality on the temperature data\n",
        "ks_test_result_temp = kstest(temperature_data, 'norm')\n",
        "\n",
        "# Calculate the p-value and KS statistic for the temperature data\n",
        "p_value_temp = ks_test_result_temp.pvalue\n",
        "ks_statistic_temp = ks_test_result_temp.statistic\n",
        "\n",
        "# Create a histogram of the temperature data\n",
        "plt.hist(temperature_data, bins=20, density=True, edgecolor='black')\n",
        "plt.xlabel('Temperature')\n",
        "plt.ylabel('Frequency')\n",
        "plt.title('Histogram of Temperature')\n",
        "plt.show()\n",
        "\n",
        "# Perform the KS test for normality on the humidity data\n",
        "ks_test_result_humidity = kstest(humidity_data, 'norm')\n",
        "\n",
        "# Calculate the p-value and KS statistic for the humidity data\n",
        "p_value_humidity = ks_test_result_humidity.pvalue\n",
        "ks_statistic_humidity = ks_test_result_humidity.statistic\n",
        "\n",
        "# Create a histogram of the humidity data\n",
        "plt.hist(humidity_data, bins=20, density=True, edgecolor='black')\n",
        "plt.xlabel('Humidity')\n",
        "plt.ylabel('Frequency')\n",
        "plt.title('Histogram of Humidity')\n",
        "plt.show()\n",
        "\n",
        "# Print the results\n",
        "print(\"a. KS test result for Temperature:\")\n",
        "print(\"   Is Temperature normally distributed?\", p_value_temp >= 0.05)\n",
        "print(\"   KS statistic:\", ks_statistic_temp)\n",
        "print(\"b. Histogram of Temperature displayed.\")\n",
        "\n",
        "print(\"c. KS test result for Humidity:\")\n",
        "print(\"   Is Humidity normally distributed?\", p_value_humidity >= 0.01)\n",
        "print(\"   KS statistic:\", ks_statistic_humidity)\n",
        "print(\"d. Histogram of Humidity displayed.\")\n"
      ],
      "metadata": {
        "colab": {
          "base_uri": "https://localhost:8080/",
          "height": 1000
        },
        "id": "olkgtyDf89MS",
        "outputId": "79d2df7b-2bff-4c7a-e982-d693f0f7bd5e"
      },
      "execution_count": null,
      "outputs": [
        {
          "output_type": "display_data",
          "data": {
            "text/plain": [
              "<Figure size 640x480 with 1 Axes>"
            ],
            "image/png": "[encoded data removed]"
          },
          "metadata": {}
        },
        {
          "output_type": "display_data",
          "data": {
            "text/plain": [
              "<Figure size 640x480 with 1 Axes>"
            ],
            "image/png": "[encoded data removed]"
          },
          "metadata": {}
        },
        {
          "output_type": "stream",
          "name": "stdout",
          "text": [
            "a. KS test result for Temperature:\n",
            "   Is Temperature normally distributed? False\n",
            "   KS statistic: 0.8187651455395293\n",
            "b. Histogram of Temperature displayed.\n",
            "c. KS test result for Humidity:\n",
            "   Is Humidity normally distributed? False\n",
            "   KS statistic: 0.5990171816042561\n",
            "d. Histogram of Humidity displayed.\n"
          ]
        }
      ]
    }
  ]
}